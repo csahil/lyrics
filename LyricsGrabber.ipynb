{
  "nbformat": 4,
  "nbformat_minor": 0,
  "metadata": {
    "colab": {
      "name": "LyricsGrabber.ipynb",
      "provenance": [],
      "toc_visible": true,
      "authorship_tag": "ABX9TyNB2bQQjYgJr6Otg+l0A8UJ",
      "include_colab_link": true
    },
    "kernelspec": {
      "name": "python3",
      "display_name": "Python 3"
    }
  },
  "cells": [
    {
      "cell_type": "markdown",
      "metadata": {
        "id": "view-in-github",
        "colab_type": "text"
      },
      "source": [
        "<a href=\"https://colab.research.google.com/github/csahil/lyrics/blob/main/LyricsGrabber.ipynb\" target=\"_parent\"><img src=\"https://colab.research.google.com/assets/colab-badge.svg\" alt=\"Open In Colab\"/></a>"
      ]
    },
    {
      "cell_type": "markdown",
      "metadata": {
        "id": "Z5s4ml11UUxZ"
      },
      "source": [
        "# **Grab all lyrics of an artist and export them as a 1 column CSV**"
      ]
    },
    {
      "cell_type": "code",
      "metadata": {
        "id": "RDULvN1Y9kH6"
      },
      "source": [
        "pip install lyricsgenius\n"
      ],
      "execution_count": null,
      "outputs": []
    },
    {
      "cell_type": "markdown",
      "metadata": {
        "id": "gFEVXIOxU1Ka"
      },
      "source": [
        "https://github.com/johnwmillr/LyricsGenius"
      ]
    },
    {
      "cell_type": "code",
      "metadata": {
        "id": "yE2SJaAXw_Fj"
      },
      "source": [
        "import lyricsgenius\n",
        "import pandas as pd\n",
        "import json\n",
        "from pandas.io.json import json_normalize\n",
        "\n",
        "genius = lyricsgenius.Genius(\"BuSq4WmyzDlupEra-jeIsMNdomh-MqW8s9xbSmt9JVH_YaJOp5a8JJ_QmL6E4vVP\")\n",
        "genius.verbose = True # Turn off status messages\n",
        "genius.remove_section_headers = True # Remove section headers (e.g. [Chorus]) from lyrics when searching\n",
        "genius.skip_non_songs = True # Include hits thought to be non-songs (e.g. track lists)\n",
        "genius.excluded_terms = [\"(Remix)\", \"(Live)\"] # Exclude songs with these words in their title\n",
        "\n"
      ],
      "execution_count": 94,
      "outputs": []
    },
    {
      "cell_type": "markdown",
      "metadata": {
        "id": "5nU9lkD2U8Gb"
      },
      "source": [
        "add artist"
      ]
    },
    {
      "cell_type": "code",
      "metadata": {
        "id": "focRqT9YyF3u",
        "outputId": "7049bda8-c747-489e-bb10-c56d20538e5f",
        "colab": {
          "base_uri": "https://localhost:8080/",
          "height": 1000
        }
      },
      "source": [
        "artist = genius.search_artist(\"Cate Le Bon\", sort=\"title\")\n",
        "print(artist.songs)\n",
        "artist.save_lyrics()"
      ],
      "execution_count": 89,
      "outputs": [
        {
          "output_type": "stream",
          "text": [
            "Searching for songs by Cate Le Bon...\n",
            "\n",
            "Song 1: \"Are You with Me Now?\"\n",
            "Song 2: \"Aside From Growing Old\"\n",
            "Song 3: \"Burn Until the End\"\n",
            "Song 4: \"Company In My Back\"\n",
            "Song 5: \"Crab Day\"\n",
            "Song 6: \"Cuckoo Through the Walls\"\n",
            "Song 7: \"Cyrk\"\n",
            "Song 8: \"Daylight Matters\"\n",
            "Song 9: \"Digging Song\"\n",
            "Song 10: \"Duke\"\n",
            "Song 11: \"Eyes So Bright\"\n",
            "Song 12: \"Find Me\"\n",
            "Song 13: \"Fold the Cloth\"\n",
            "Song 14: \"Greta\"\n",
            "Song 15: \"Here It Comes Again\"\n",
            "Song 16: \"Home to You\"\n",
            "Song 17: \"How Do You Know?\"\n",
            "Song 18: \"I Can’t Help You\"\n",
            "Song 19: \"I Just Wanna Be Good\"\n",
            "Song 20: \"I’m a Dirty Attic\"\n",
            "Song 21: \"I Think I Knew\"\n",
            "Song 22: \"I Was Born on the Wrong Day\"\n",
            "Song 23: \"January\"\n",
            "Song 24: \"Julia\"\n",
            "Song 25: \"Love Is Not Love\"\n",
            "Song 26: \"Magnificent Gestures\"\n",
            "Song 27: \"Meet the Man\"\n",
            "Song 28: \"Me Oh My\"\n",
            "Song 29: \"Miami\"\n",
            "Song 30: \"Mirror Me\"\n",
            "Song 31: \"Mother’s Mother’s Magazines\"\n",
            "Song 32: \"Mug Museum\"\n",
            "Song 33: \"No God\"\n",
            "Song 34: \"O am gariad\"\n",
            "Song 35: \"Out to Sea\"\n",
            "Song 36: \"Perfume Days\"\n",
            "Song 37: \"Ploughing Out, Pt. 1\"\n",
            "Song 38: \"Ploughing Out, Pt. 2\"\n",
            "Song 39: \"Puts Me To Work\"\n",
            "Song 40: \"Rock Pool\"\n",
            "Song 41: \"Sad Nudes\"\n",
            "Song 42: \"Sad Sad Feet\"\n",
            "Song 43: \"Seaside, Lowtide\"\n",
            "Song 44: \"Shoeing the Bones\"\n",
            "Song 45: \"Sisters\"\n",
            "Song 46: \"That Moon\"\n",
            "Song 47: \"The Eiggy Sea\"\n",
            "Song 48: \"The Light\"\n",
            "Song 49: \"The Man I Wanted\"\n",
            "Song 50: \"Through The Mill\"\n",
            "Song 51: \"We Might Revolve\"\n",
            "Song 52: \"What Is Worse\"\n",
            "Song 53: \"What’s Not Mine\"\n",
            "Song 54: \"Wild\"\n",
            "Song 55: \"Wonderful\"\n",
            "Song 56: \"Yellow Blinds, Cream Shadows\"\n",
            "Song 57: \"You Don’t Love Me\"\n",
            "Done. Found 57 songs.\n",
            "[('Are You with Me Now?', 'Cate Le Bon'), ('Aside From Growing Old', 'Cate Le Bon'), ('Burn Until the End', 'Cate Le Bon'), ('Company In My Back', 'Cate Le Bon'), ('Crab Day', 'Cate Le Bon'), ('Cuckoo Through the Walls', 'Cate Le Bon'), ('Cyrk', 'Cate Le Bon'), ('Daylight Matters', 'Cate Le Bon'), ('Digging Song', 'Cate Le Bon'), ('Duke', 'Cate Le Bon'), ('Eyes So Bright', 'Cate Le Bon'), ('Find Me', 'Cate Le Bon'), ('Fold the Cloth', 'Cate Le Bon'), ('Greta', 'Cate Le Bon'), ('Here It Comes Again', 'Cate Le Bon'), ('Home to You', 'Cate Le Bon'), ('How Do You Know?', 'Cate Le Bon'), ('I Can’t Help You', 'Cate Le Bon'), ('I Just Wanna Be Good', 'Cate Le Bon'), ('I’m a Dirty Attic', 'Cate Le Bon'), ('I Think I Knew', 'Cate Le Bon'), ('I Was Born on the Wrong Day', 'Cate Le Bon'), ('January', 'Cate Le Bon'), ('Julia', 'Cate Le Bon'), ('Love Is Not Love', 'Cate Le Bon'), ('Magnificent Gestures', 'Cate Le Bon'), ('Meet the Man', 'Cate Le Bon'), ('Me Oh My', 'Cate Le Bon'), ('Miami', 'Cate Le Bon'), ('Mirror Me', 'Cate Le Bon'), ('Mother’s Mother’s Magazines', 'Cate Le Bon'), ('Mug Museum', 'Cate Le Bon'), ('No God', 'Cate Le Bon'), ('O am gariad', 'Cate Le Bon'), ('Out to Sea', 'Cate Le Bon'), ('Perfume Days', 'Cate Le Bon'), ('Ploughing Out, Pt. 1', 'Cate Le Bon'), ('Ploughing Out, Pt. 2', 'Cate Le Bon'), ('Puts Me To Work', 'Cate Le Bon'), ('Rock Pool', 'Cate Le Bon'), ('Sad Nudes', 'Cate Le Bon'), ('Sad Sad Feet', 'Cate Le Bon'), ('Seaside, Lowtide', 'Cate Le Bon'), ('Shoeing the Bones', 'Cate Le Bon'), ('Sisters', 'Cate Le Bon'), ('That Moon', 'Cate Le Bon'), ('The Eiggy Sea', 'Cate Le Bon'), ('The Light', 'Cate Le Bon'), ('The Man I Wanted', 'Cate Le Bon'), ('Through The Mill', 'Cate Le Bon'), ('We Might Revolve', 'Cate Le Bon'), ('What Is Worse', 'Cate Le Bon'), ('What’s Not Mine', 'Cate Le Bon'), ('Wild', 'Cate Le Bon'), ('Wonderful', 'Cate Le Bon'), ('Yellow Blinds, Cream Shadows', 'Cate Le Bon'), ('You Don’t Love Me', 'Cate Le Bon')]\n",
            "Wrote `Lyrics_CateLeBon.json`\n"
          ],
          "name": "stdout"
        }
      ]
    },
    {
      "cell_type": "markdown",
      "metadata": {
        "id": "5UN4S3JfVOqC"
      },
      "source": [
        "change to name of file"
      ]
    },
    {
      "cell_type": "code",
      "metadata": {
        "id": "hMYJ9rLA1dmW",
        "outputId": "9b617e74-b5f9-46d0-8b7f-301ca3572c8b",
        "colab": {
          "base_uri": "https://localhost:8080/",
          "height": 225
        }
      },
      "source": [
        "with open('Lyrics_CateLeBon.json') as json_data:\n",
        "    data = json.load(json_data)\n",
        "\n",
        "df = pd.DataFrame(data['songs'])\n",
        "df1 = df.lyrics.str.split(pat=\"\\n\").explode()\n",
        "\n",
        "print(df1)\n",
        "\n",
        "df1.to_csv('lyrics.csv',index = False,header = False)\n",
        "\n"
      ],
      "execution_count": 97,
      "outputs": [
        {
          "output_type": "stream",
          "text": [
            "0     Oh, the sinking spell       \n",
            "0     Caught at tiny heels        \n",
            "0     Pinned a notice to posts    \n",
            "0     And then crawled in my mouth\n",
            "0                                 \n",
            "     ..                           \n",
            "56    Your cake                   \n",
            "56    Out of my face              \n",
            "56    On point                    \n",
            "56    Divine                      \n",
            "56    Die hard                    \n",
            "Name: lyrics, Length: 1667, dtype: object\n"
          ],
          "name": "stdout"
        }
      ]
    }
  ]
}